{
 "cells": [
  {
   "cell_type": "code",
   "execution_count": 0,
   "metadata": {
    "application/vnd.databricks.v1+cell": {
     "cellMetadata": {
      "byteLimit": 2048000,
      "rowLimit": 10000
     },
     "inputWidgets": {},
     "nuid": "56266826-99d9-44d5-95f9-3d4879c2843e",
     "showTitle": false,
     "tableResultSettingsMap": {},
     "title": ""
    }
   },
   "outputs": [
    {
     "output_type": "stream",
     "name": "stdout",
     "output_type": "stream",
     "text": [
      "Library Book Tracker:\n\n1. Add a book\n2. Search for books\n3. Remove a book\n4. Display unique authors\n5. Display books sorted by title\n6. Borrow a book\n7. Show borrowed books\n8. Exit\n"
     ]
    },
    {
     "output_type": "display_data",
     "data": {
      "text/plain": [
       "Enter your choice (1-8):  8"
      ]
     },
     "metadata": {},
     "output_type": "display_data"
    },
    {
     "output_type": "stream",
     "name": "stdout",
     "output_type": "stream",
     "text": [
      "Exiting Library Book Tracker. Goodbye!\n"
     ]
    }
   ],
   "source": [
    "class Library_Book_Tracker:\n",
    "    def __init__(self):\n",
    "        # List for storing books \n",
    "        self.books = []  \n",
    "        # List for storing borrowed books\n",
    "        self.borrowed_books = []  \n",
    "\n",
    "    def adding_book(self, book):\n",
    "        #Adding a new book to the library.\n",
    "        if book in self.books:\n",
    "            print(f\"The book '{book}' is already in the library.\")\n",
    "        else:\n",
    "            self.books.append(book)\n",
    "            print(f\"Book '{book}' added to the library.\")\n",
    "\n",
    "    def searching_books(self, keyword):\n",
    "        #Searching for books in the library by a keyword.\n",
    "        results = [book for book in self.books if keyword.lower() in book.lower()]\n",
    "        if results:\n",
    "            print(f\"Books matching '{keyword}':\")\n",
    "            for book in results:\n",
    "                print(book)\n",
    "        else:\n",
    "            print(f\"No books found for keyword: '{keyword}'\")\n",
    "\n",
    "    def removing_book(self, title):\n",
    "        #Removing a book from the library by its exact title.\n",
    "        for book in self.books:\n",
    "            if title.lower() == book.split(\" by \")[0].lower():\n",
    "                self.books.remove(book)\n",
    "                print(f\"Book '{title}' has been removed from the library.\")\n",
    "                return\n",
    "        print(f\"Book '{title}' not found in the library.\")\n",
    "\n",
    "    def displaying_unique_authors(self):\n",
    "        #Displaying the list of all unique authors.\n",
    "        authors = {book.split(\" by \")[1] for book in self.books}\n",
    "        print(\"Unique authors in the library:\")\n",
    "        for author in sorted(authors):\n",
    "            print(author)\n",
    "\n",
    "    def displaying_books_sorted_by_title(self):\n",
    "        #Displaying all books sorted alphabetically by title.\n",
    "        sorted_books = sorted(self.books, key=lambda book: book.split(\" by \")[0].lower())\n",
    "        print(\"Books sorted alphabetically by title:\")\n",
    "        for book in sorted_books:\n",
    "            print(book)\n",
    "\n",
    "    def borrowing_book(self, title, borrower_name):\n",
    "        #Adding a borrowed book to the borrowed list as a tuple.\n",
    "        for book in self.books:\n",
    "            if title.lower() == book.split(\" by \")[0].lower():\n",
    "                self.borrowed_books.append((book, borrower_name))\n",
    "                self.books.remove(book)\n",
    "                print(f\"Book '{title}' borrowed by {borrower_name}.\")\n",
    "                return\n",
    "        print(f\"Book '{title}' is not available in the library.\")\n",
    "\n",
    "    def showing_borrowed_books(self):\n",
    "        #Displaying the current list of borrowed books and borrowers.\n",
    "        if not self.borrowed_books:\n",
    "            print(\"No books have been borrowed.\")\n",
    "        else:\n",
    "            print(\"Borrowed books:\")\n",
    "            for book, borrower in self.borrowed_books:\n",
    "                print(f\"Book: {book}, Borrowed by: {borrower}\")\n",
    "\n",
    "\n",
    "def main():\n",
    "    library = Library_Book_Tracker()\n",
    "\n",
    "    while True:\n",
    "        print(\"Library Book Tracker:\\n\")\n",
    "        print(\"1. Add a book\")\n",
    "        print(\"2. Search for books\")\n",
    "        print(\"3. Remove a book\")\n",
    "        print(\"4. Display unique authors\")\n",
    "        print(\"5. Display books sorted by title\")\n",
    "        print(\"6. Borrow a book\")\n",
    "        print(\"7. Show borrowed books\")\n",
    "        print(\"8. Exit\")\n",
    "\n",
    "        choice = input(\"Enter your choice (1-8): \").strip()\n",
    "\n",
    "        if choice == \"1\":\n",
    "            title = input(\"Enter the book title: \").strip()\n",
    "            author = input(\"Enter the book author: \").strip()\n",
    "            library.adding_book(f\"{title} by {author}\")\n",
    "        elif choice == \"2\":\n",
    "            keyword = input(\"Enter a keyword to search: \").strip()\n",
    "            library.searching_books(keyword)\n",
    "        elif choice == \"3\":\n",
    "            title = input(\"Enter the title of the book to remove: \").strip()\n",
    "            library.removing_book(title)\n",
    "        elif choice == \"4\":\n",
    "            library.displaying_unique_authors()\n",
    "        elif choice == \"5\":\n",
    "            library.displaying_books_sorted_by_title()\n",
    "        elif choice == \"6\":\n",
    "            title = input(\"Enter the title of the book to borrow: \").strip()\n",
    "            borrower = input(\"Enter the borrower's name: \").strip()\n",
    "            library.borrowing_book(title, borrower)\n",
    "        elif choice == \"7\":\n",
    "            library.showing_borrowed_books()\n",
    "        elif choice == \"8\":\n",
    "            print(\"Exiting Library Book Tracker. Goodbye!!!\")\n",
    "            break\n",
    "        else:\n",
    "            print(\"Invalid choice. Please enter a number from 1 to 8.\")\n",
    "\n",
    "\n",
    "if __name__ == \"__main__\":\n",
    "    main()"
   ]
  }
 ],
 "metadata": {
  "application/vnd.databricks.v1+notebook": {
   "dashboards": [],
   "environmentMetadata": null,
   "language": "python",
   "notebookMetadata": {
    "pythonIndentUnit": 4
   },
   "notebookName": "Library_Book_Tracker",
   "widgets": {}
  }
 },
 "nbformat": 4,
 "nbformat_minor": 0
}
